{
 "cells": [
  {
   "cell_type": "markdown",
   "metadata": {},
   "source": [
    "This notebook demonstrates how to use `yamlpyowl` and `owlready2` analyze and solve the famous [zebra puzzle](http://en.wikipedia.org/wiki/Zebra_puzzle) by A. Einstein. It consists of 15 clues like:\n",
    "\n",
    "1. There are five houses.\n",
    "2. The Englishman lives in the red house.\n",
    "3. The Spaniard owns the dog.\n",
    "4. Coffee is drunk in the green house.\n",
    "5. ...\n",
    "\n",
    "\n",
    "Here you can view the source file ([YAML](https://en.wikipedia.org/wiki/YAML)-Syntax): [examples/einsteins_zebra_riddle.owl.yml](../../examples/einsteins_zebra_riddle.owl.yml)\n",
    "\n",
    "Note: The OWL-representation is based on the work of [D. Ponomaryov](https://persons.iis.nsk.su/en/ponom/ontologies)\n"
   ]
  },
  {
   "cell_type": "code",
   "execution_count": 1,
   "metadata": {},
   "outputs": [
    {
     "name": "stderr",
     "output_type": "stream",
     "text": [
      "* Owlready2 * Warning: optimized Cython parser module 'owlready2_optimized' is not available, defaulting to slower Python implementation\n"
     ]
    }
   ],
   "source": [
    "import yamlpyowl as ypo"
   ]
  },
  {
   "cell_type": "code",
   "execution_count": 2,
   "metadata": {},
   "outputs": [],
   "source": [
    "fpath = \"../../examples/einsteins_zebra_riddle.owl.yml\"\n",
    "om = ypo.OntologyManager(fpath)\n",
    "\n",
    "# create an object for quick access to all entities:\n",
    "n = om.name_mapping_container"
   ]
  },
  {
   "cell_type": "markdown",
   "metadata": {},
   "source": [
    "### Investigate which information is represented in the ontology itself (without running the reasoner)"
   ]
  },
  {
   "cell_type": "code",
   "execution_count": 3,
   "metadata": {},
   "outputs": [
    {
     "data": {
      "text/plain": [
       "<Thing 'dog'>"
      ]
     },
     "execution_count": 3,
     "metadata": {},
     "output_type": "execute_result"
    }
   ],
   "source": [
    "# note: not a `Pet` but still a `Thing`\n",
    "n.dog"
   ]
  },
  {
   "cell_type": "code",
   "execution_count": 4,
   "metadata": {},
   "outputs": [
    {
     "data": {
      "text/plain": [
       "<Thing 'house_2'>"
      ]
     },
     "execution_count": 4,
     "metadata": {},
     "output_type": "execute_result"
    }
   ],
   "source": [
    "n.house_1.left_to"
   ]
  },
  {
   "cell_type": "code",
   "execution_count": 5,
   "metadata": {},
   "outputs": [
    {
     "data": {
      "text/plain": [
       "<<property object at 0x7fb07d64d630> 'Nothing'>"
      ]
     },
     "execution_count": 5,
     "metadata": {},
     "output_type": "execute_result"
    }
   ],
   "source": [
    "n.house_1.right_to"
   ]
  },
  {
   "cell_type": "code",
   "execution_count": 6,
   "metadata": {},
   "outputs": [
    {
     "data": {
      "text/plain": [
       "False"
      ]
     },
     "execution_count": 6,
     "metadata": {},
     "output_type": "execute_result"
    }
   ],
   "source": [
    "n.dog == n.Spaniard.owns"
   ]
  },
  {
   "cell_type": "code",
   "execution_count": 7,
   "metadata": {},
   "outputs": [
    {
     "data": {
      "text/plain": [
       "get_ontology(\"https://w3id.org/yet/undefined/einstein-zebra-puzzle-ontology#\")"
      ]
     },
     "execution_count": 7,
     "metadata": {},
     "output_type": "execute_result"
    }
   ],
   "source": [
    "# This is the owlready-Ontology\n",
    "om.onto"
   ]
  },
  {
   "cell_type": "code",
   "execution_count": 8,
   "metadata": {},
   "outputs": [
    {
     "name": "stdout",
     "output_type": "stream",
     "text": [
      "classes (concepts):\n",
      " [<<property object at 0x7fb07d64d630> 'Pet'>, <<property object at 0x7fb07d64d630> 'Man'>, <<property object at 0x7fb07d64d630> 'House'>, <<property object at 0x7fb07d64d630> 'Color'>, <<property object at 0x7fb07d64d630> 'Beverage'>, <<property object at 0x7fb07d64d630> 'Cigarette'>] \n",
      "\n",
      "\n",
      "properties (roles):\n",
      " [<<property object at 0x7fb07d64d630> 'right_to'>, <<property object at 0x7fb07d64d630> 'left_to'>, <<property object at 0x7fb07d64d630> 'has_color'>, <<property object at 0x7fb07d64d630> 'inv_has_color'>, <<property object at 0x7fb07d64d630> 'drinks'>, <<property object at 0x7fb07d64d630> 'inv_drinks'>, <<property object at 0x7fb07d64d630> 'lives_in'>, <<property object at 0x7fb07d64d630> 'inv_lives_in'>, <<property object at 0x7fb07d64d630> 'owns'>, <<property object at 0x7fb07d64d630> 'inv_owns'>, <<property object at 0x7fb07d64d630> 'smokes'>, <<property object at 0x7fb07d64d630> 'inv_smokes'>] \n",
      "\n",
      "\n"
     ]
    }
   ],
   "source": [
    "print(\"classes (concepts):\\n\", list(om.onto.classes()), \"\\n\"*2)\n",
    "print(\"properties (roles):\\n\", list(om.onto.properties()), \"\\n\"*2)"
   ]
  },
  {
   "cell_type": "code",
   "execution_count": 9,
   "metadata": {},
   "outputs": [
    {
     "data": {
      "text/plain": [
       "[(<Thing 'Norwegian'>, <Thing 'house_1'>)]"
      ]
     },
     "execution_count": 9,
     "metadata": {},
     "output_type": "execute_result"
    }
   ],
   "source": [
    "list(om.onto.lives_in.get_relations())"
   ]
  },
  {
   "cell_type": "code",
   "execution_count": 10,
   "metadata": {},
   "outputs": [
    {
     "name": "stdout",
     "output_type": "stream",
     "text": [
      "len(axioms)=37 \n",
      "\n",
      "<<property object at 0x7fb07d64d630> 'left_to'>.some(<<property object at 0x7fb07d64d630> 'has_color'>.value(<Thing 'blue'>))\n",
      "\n",
      "<<property object at 0x7fb07d64d630> 'has_color'>.value(<Thing 'blue'>)\n",
      "\n",
      "<<property object at 0x7fb07d64d630> 'lives_in'>.some(<<property object at 0x7fb07d64d630> 'left_to'>.some(<<property object at 0x7fb07d64d630> 'has_color'>.value(<Thing 'blue'>)))\n"
     ]
    },
    {
     "data": {
      "text/plain": [
       "[OneOf([<Thing 'Englishman'>, <Thing 'Japanese'>, <Thing 'Norwegian'>, <Thing 'Spaniard'>, <Thing 'Ukrainian'>]),\n",
       " OneOf([<Thing 'dog'>, <Thing 'zebra'>, <Thing 'snails'>, <Thing 'fox'>, <Thing 'horse'>])]"
      ]
     },
     "execution_count": 10,
     "metadata": {},
     "output_type": "execute_result"
    }
   ],
   "source": [
    "# the axioms object contains important pieces of information\n",
    "# (but does not cotain \"real\" axioms due to missing subject, to which restriction this axiom-fragment belongs)\n",
    "\n",
    "axioms = list(om.onto.general_axioms())\n",
    "print(f\"{len(axioms)=}\", \"\\n\")\n",
    "print(\"\\n\\n\".join(map(str, axioms[:3])))\n",
    "axioms[-2:]"
   ]
  },
  {
   "cell_type": "markdown",
   "metadata": {},
   "source": [
    "### Call the reasoner and investigate the entities again"
   ]
  },
  {
   "cell_type": "code",
   "execution_count": 11,
   "metadata": {},
   "outputs": [
    {
     "name": "stdout",
     "output_type": "stream",
     "text": [
      "CPU times: user 21.3 ms, sys: 371 µs, total: 21.6 ms\n",
      "Wall time: 6.2 s\n"
     ]
    }
   ],
   "source": [
    "%time om.sync_reasoner(infer_property_values=True)"
   ]
  },
  {
   "cell_type": "markdown",
   "metadata": {},
   "source": [
    "The puzzle is called \"zebra puzzle\" because the question is: **Who owns the zebra?** This can be answered with a very simple [SPARQL](https://www.wikidata.org/wiki/Wikidata:SPARQL_tutorial) query."
   ]
  },
  {
   "cell_type": "code",
   "execution_count": 12,
   "metadata": {},
   "outputs": [
    {
     "data": {
      "text/plain": [
       "{<Man 'Japanese'>}"
      ]
     },
     "execution_count": 12,
     "metadata": {},
     "output_type": "execute_result"
    }
   ],
   "source": [
    "qsrc = f\"\"\"\n",
    "PREFIX P: <{om.iri}>\n",
    "SELECT ?x WHERE {{\n",
    "?x P:owns P:zebra.\n",
    "}}\n",
    "\"\"\"\n",
    "om.make_query(qsrc)"
   ]
  },
  {
   "cell_type": "markdown",
   "metadata": {},
   "source": [
    "Of couse, the entities can be accessed also directly:"
   ]
  },
  {
   "cell_type": "code",
   "execution_count": 13,
   "metadata": {},
   "outputs": [
    {
     "data": {
      "text/plain": [
       "[(<Man 'Norwegian'>, <House 'house_1'>),\n",
       " (<Man 'Englishman'>, <House 'house_3'>),\n",
       " (<Man 'Japanese'>, <House 'house_5'>),\n",
       " (<Man 'Spaniard'>, <House 'house_4'>),\n",
       " (<Man 'Ukrainian'>, <House 'house_2'>),\n",
       " (<Man 'Ukrainian'>, <House 'house_2'>),\n",
       " (<Man 'Spaniard'>, <House 'house_4'>),\n",
       " (<Man 'Japanese'>, <House 'house_5'>),\n",
       " (<Man 'Englishman'>, <House 'house_3'>)]"
      ]
     },
     "execution_count": 13,
     "metadata": {},
     "output_type": "execute_result"
    }
   ],
   "source": [
    "list(om.onto.lives_in.get_relations())"
   ]
  },
  {
   "cell_type": "code",
   "execution_count": 14,
   "metadata": {},
   "outputs": [
    {
     "data": {
      "text/plain": [
       "[(<Man 'Englishman'>, <Pet 'snails'>),\n",
       " (<Man 'Norwegian'>, <Pet 'fox'>),\n",
       " (<Man 'Japanese'>, <Pet 'zebra'>),\n",
       " (<Man 'Spaniard'>, <Pet 'dog'>),\n",
       " (<Man 'Ukrainian'>, <Pet 'horse'>),\n",
       " (<Man 'Japanese'>, <Pet 'zebra'>),\n",
       " (<Man 'Norwegian'>, <Pet 'fox'>),\n",
       " (<Man 'Englishman'>, <Pet 'snails'>),\n",
       " (<Man 'Spaniard'>, <Pet 'dog'>),\n",
       " (<Man 'Ukrainian'>, <Pet 'horse'>)]"
      ]
     },
     "execution_count": 14,
     "metadata": {},
     "output_type": "execute_result"
    }
   ],
   "source": [
    "list(om.onto.owns.get_relations())"
   ]
  },
  {
   "cell_type": "code",
   "execution_count": 15,
   "metadata": {},
   "outputs": [
    {
     "data": {
      "text/plain": [
       "[(<Man 'Ukrainian'>, <Beverage 'tea'>),\n",
       " (<Man 'Englishman'>, <Beverage 'milk'>),\n",
       " (<Man 'Norwegian'>, <Beverage 'water'>),\n",
       " (<Man 'Japanese'>, <Beverage 'coffee'>),\n",
       " (<Man 'Spaniard'>, <Beverage 'orange_juice'>),\n",
       " (<Man 'Englishman'>, <Beverage 'milk'>),\n",
       " (<Man 'Norwegian'>, <Beverage 'water'>),\n",
       " (<Man 'Japanese'>, <Beverage 'coffee'>),\n",
       " (<Man 'Spaniard'>, <Beverage 'orange_juice'>)]"
      ]
     },
     "execution_count": 15,
     "metadata": {},
     "output_type": "execute_result"
    }
   ],
   "source": [
    "list(om.onto.drinks.get_relations())"
   ]
  },
  {
   "cell_type": "markdown",
   "metadata": {},
   "source": [
    "### Concluding Hypothesis\n",
    "Logical puzzles have significant didactic potential to increase the accessibility of semantic technologies."
   ]
  }
 ],
 "metadata": {
  "kernelspec": {
   "display_name": "Python 3",
   "language": "python",
   "name": "python3"
  },
  "language_info": {
   "codemirror_mode": {
    "name": "ipython",
    "version": 3
   },
   "file_extension": ".py",
   "mimetype": "text/x-python",
   "name": "python",
   "nbconvert_exporter": "python",
   "pygments_lexer": "ipython3",
   "version": "3.8.6"
  }
 },
 "nbformat": 4,
 "nbformat_minor": 4
}
